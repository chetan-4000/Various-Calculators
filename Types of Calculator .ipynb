{
 "cells": [
  {
   "cell_type": "code",
   "execution_count": null,
   "id": "a67047e5",
   "metadata": {},
   "outputs": [],
   "source": [
    "# TIP CALCULATOR\n",
    "b = int(input(\"What is the amount of bill? \"))\n",
    "p = int(input(\"What is the number of persons? \"))\n",
    "t = int(input(\"What is the tip percentage to give 10,12 or 15?\"))\n",
    "pps = (b + b*t/100)/p\n",
    "print(\"Share of each person is: \" + str(pps) )"
   ]
  },
  {
   "cell_type": "code",
   "execution_count": null,
   "id": "af60e057",
   "metadata": {},
   "outputs": [],
   "source": [
    "# BMI CALCULATOR\n",
    "weight = float(input(\"Weight in kgs: \"))\n",
    "height =  float(input(\"Height in meters: \"))\n",
    "bmi = weight/height**2\n",
    "print(\"BMI of the person is:\" + \" \" + str(bmi))\n",
    "if bmi < 18.5:\n",
    "    print(\"You are underweight\")\n",
    "elif bmi<25.0:\n",
    "    print(\"You are normal weight\")\n",
    "else:\n",
    "    print(\"You are overweight\")"
   ]
  },
  {
   "cell_type": "code",
   "execution_count": null,
   "id": "b83ebfa1",
   "metadata": {},
   "outputs": [],
   "source": [
    "def func(A,B,C):\n",
    "    if C == '+':\n",
    "        D = A+B\n",
    "        return(D)\n",
    "    elif C == '-':\n",
    "        D = A-B\n",
    "        return(D)\n",
    "    elif C == '*':\n",
    "        D = A*B\n",
    "        return(D)\n",
    "    elif C == '/':\n",
    "        D = A/B\n",
    "        return(D)\n",
    "    \n",
    "design = ''' _____________________\n",
    "|  _________________  |\n",
    "| | JO           0. | |\n",
    "| |_________________| |\n",
    "|  ___ ___ ___   ___  |\n",
    "| | 7 | 8 | 9 | | + | |\n",
    "| |___|___|___| |___| |\n",
    "| | 4 | 5 | 6 | | - | |\n",
    "| |___|___|___| |___| |\n",
    "| | 1 | 2 | 3 | | x | |\n",
    "| |___|___|___| |___| |\n",
    "| | . | 0 | = | | / | |\n",
    "| |___|___|___| |___| |\n",
    "|_____________________|'''\n",
    "\n",
    "print(design)\n",
    "a = int(input(\"Type the first number:\\n\"))\n",
    "b = int(input(\"Type the second number:\\n\"))\n",
    "c = input(\"Write the operations you want to perform out of: \\n+ \\n -\\n *\\n /\\n\")\n",
    "output1 = func(a,b,c)\n",
    "print(output1)\n",
    "d = input(\"Type 'yes'if you want to continue calculation and 'no' if u want new calculator:\\n\").lower()\n",
    "if d == \"yes\":\n",
    "    e = int(input(\"Type the number you want to calculate further:\\n\"))\n",
    "    f = input(\"Write the operations you want to perform out of: \\n+ \\n -\\n *\\n /\\n\")\n",
    "    output2 = func(output1,e,f)\n",
    "    print(output2)\n",
    "else:\n",
    "    print(f\"Your final output is: {output1}\")"
   ]
  }
 ],
 "metadata": {
  "kernelspec": {
   "display_name": "Python 3",
   "language": "python",
   "name": "python3"
  },
  "language_info": {
   "codemirror_mode": {
    "name": "ipython",
    "version": 3
   },
   "file_extension": ".py",
   "mimetype": "text/x-python",
   "name": "python",
   "nbconvert_exporter": "python",
   "pygments_lexer": "ipython3",
   "version": "3.8.8"
  }
 },
 "nbformat": 4,
 "nbformat_minor": 5
}
